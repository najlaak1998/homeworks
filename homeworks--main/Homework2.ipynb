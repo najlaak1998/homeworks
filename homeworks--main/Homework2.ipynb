{
  "nbformat": 4,
  "nbformat_minor": 0,
  "metadata": {
    "colab": {
      "provenance": [],
      "authorship_tag": "ABX9TyPHozBiq/CrzB3Dd4PecvZ/",
      "include_colab_link": true
    },
    "kernelspec": {
      "name": "python3",
      "display_name": "Python 3"
    },
    "language_info": {
      "name": "python"
    }
  },
  "cells": [
    {
      "cell_type": "markdown",
      "metadata": {
        "id": "view-in-github",
        "colab_type": "text"
      },
      "source": [
        "<a href=\"https://colab.research.google.com/github/najlaak1998/homeworks/blob/main/homeworks--main/Homework2.ipynb\" target=\"_parent\"><img src=\"https://colab.research.google.com/assets/colab-badge.svg\" alt=\"Open In Colab\"/></a>"
      ]
    },
    {
      "cell_type": "code",
      "source": [
        "!git clone https://github.com/najlaak1998/homework2-.git"
      ],
      "metadata": {
        "colab": {
          "base_uri": "https://localhost:8080/"
        },
        "id": "VWqkf5rEiXEk",
        "outputId": "26760a11-6ecb-4a99-a3bd-ac41519cc0f7"
      },
      "execution_count": null,
      "outputs": [
        {
          "output_type": "stream",
          "name": "stdout",
          "text": [
            "Cloning into 'homework2-'...\n",
            "remote: Enumerating objects: 3, done.\u001b[K\n",
            "remote: Counting objects: 100% (3/3), done.\u001b[K\n",
            "remote: Compressing objects: 100% (2/2), done.\u001b[K\n",
            "remote: Total 3 (delta 0), reused 0 (delta 0), pack-reused 0\u001b[K\n",
            "Unpacking objects: 100% (3/3), 1.21 KiB | 1.21 MiB/s, done.\n"
          ]
        }
      ]
    },
    {
      "cell_type": "code",
      "execution_count": null,
      "metadata": {
        "colab": {
          "base_uri": "https://localhost:8080/"
        },
        "id": "YP2lXswL1dx8",
        "outputId": "04cdeb0e-c32e-49b5-d766-a9b0dbca205f"
      },
      "outputs": [
        {
          "output_type": "stream",
          "name": "stdout",
          "text": [
            "Enter your height in m: 1.62\n",
            "Enter your weight in kg: 50\n",
            "The BMI= 19.05197378448407\n",
            "normal weight\n"
          ]
        }
      ],
      "source": [
        "#160cm=1.6m\n",
        "#160/100\n",
        "height=float(input(\"Enter your height in m: \"))\n",
        "weight=float(input(\"Enter your weight in kg: \"))\n",
        "BMI=weight/(height*height)\n",
        "print(\"The BMI=\",BMI)\n",
        "if BMI < 18.5:\n",
        "  print(\"under weight\")\n",
        "elif BMI>=18.5 and BMI<=24.9:\n",
        "  print(\"normal weight\")\n",
        "elif BMI>=25.0 and  BMI<=29.9:\n",
        "  print(\"over weight\")\n",
        "elif BMI>=30.0 and BMI<=34.9:\n",
        "  print(\"obese\")\n",
        "else :\n",
        "  print(\"extremely obese\")\n"
      ]
    },
    {
      "cell_type": "code",
      "source": [
        "height=float(input(\"Enter your height in cm: \"))\n",
        "weight=float(input(\"Enter your weight in kg: \"))\n",
        "BMI=weight/((height/100)*(height/100))\n",
        "print(\"The BMI=\",BMI)\n",
        "if BMI < 18.5:\n",
        "  print(\"under weight\")\n",
        "elif BMI>=18.5 and BMI<=24.9:\n",
        "  print(\"normal weight\")\n",
        "elif BMI>=25.0 and  BMI<=29.9:\n",
        "  print(\"over weight\")\n",
        "elif BMI>=30.0 and BMI<=34.9:\n",
        "  print(\"obese\")\n",
        "else :\n",
        "  print(\"extremely obese\")"
      ],
      "metadata": {
        "colab": {
          "base_uri": "https://localhost:8080/"
        },
        "id": "J7anTGLcI7Eq",
        "outputId": "a7424fe6-0a9f-4698-9b33-5500ea700ed0"
      },
      "execution_count": null,
      "outputs": [
        {
          "output_type": "stream",
          "name": "stdout",
          "text": [
            "Enter your height in cm: 162\n",
            "Enter your weight in kg: 50\n",
            "The BMI= 19.05197378448407\n",
            "normal weight\n"
          ]
        }
      ]
    }
  ]
}