{
  "nbformat": 4,
  "nbformat_minor": 0,
  "metadata": {
    "colab": {
      "provenance": [],
      "authorship_tag": "ABX9TyP/CLE52t2fzG7PxbLyRole",
      "include_colab_link": true
    },
    "kernelspec": {
      "name": "python3",
      "display_name": "Python 3"
    },
    "language_info": {
      "name": "python"
    }
  },
  "cells": [
    {
      "cell_type": "markdown",
      "metadata": {
        "id": "view-in-github",
        "colab_type": "text"
      },
      "source": [
        "<a href=\"https://colab.research.google.com/github/najlaak1998/homework2-/blob/main/homework3other.ipynb\" target=\"_parent\"><img src=\"https://colab.research.google.com/assets/colab-badge.svg\" alt=\"Open In Colab\"/></a>"
      ]
    },
    {
      "cell_type": "code",
      "execution_count": 3,
      "metadata": {
        "colab": {
          "base_uri": "https://localhost:8080/"
        },
        "id": "xs5ISsb53a4v",
        "outputId": "d883f92d-82a7-4c8e-9232-f8a6276c3f18"
      },
      "outputs": [
        {
          "output_type": "stream",
          "name": "stdout",
          "text": [
            "0 is even\n",
            "1 is odd\n",
            "2 is even\n",
            "3 is odd\n",
            "4 is even\n",
            "5 is odd\n",
            "6 is even\n",
            "7 is odd\n",
            "8 is even\n",
            "9 is odd\n",
            "10 is even\n",
            "11 is odd\n",
            "12 is even\n",
            "13 is odd\n",
            "14 is even\n",
            "15 is odd\n",
            "16 is even\n",
            "17 is odd\n",
            "18 is even\n",
            "19 is odd\n",
            "20 is even\n",
            "21 is odd\n",
            "22 is even\n",
            "23 is odd\n",
            "24 is even\n",
            "25 is odd\n",
            "26 is even\n",
            "27 is odd\n",
            "28 is even\n",
            "29 is odd\n",
            "30 is even\n",
            "31 is odd\n",
            "32 is even\n",
            "33 is odd\n",
            "34 is even\n",
            "35 is odd\n",
            "36 is even\n",
            "37 is odd\n",
            "38 is even\n",
            "39 is odd\n",
            "40 is even\n",
            "41 is odd\n",
            "42 is even\n",
            "43 is odd\n",
            "44 is even\n",
            "45 is odd\n",
            "46 is even\n",
            "47 is odd\n",
            "48 is even\n",
            "49 is odd\n",
            "50 is even\n",
            "51 is odd\n",
            "52 is even\n",
            "53 is odd\n",
            "54 is even\n",
            "55 is odd\n",
            "56 is even\n",
            "57 is odd\n",
            "58 is even\n",
            "59 is odd\n",
            "60 is even\n",
            "61 is odd\n",
            "62 is even\n",
            "63 is odd\n",
            "64 is even\n",
            "65 is odd\n",
            "66 is even\n",
            "67 is odd\n",
            "68 is even\n",
            "69 is odd\n",
            "70 is even\n",
            "71 is odd\n",
            "72 is even\n",
            "73 is odd\n",
            "74 is even\n",
            "75 is odd\n",
            "76 is even\n",
            "77 is odd\n",
            "78 is even\n",
            "79 is odd\n",
            "80 is even\n",
            "81 is odd\n",
            "82 is even\n",
            "83 is odd\n",
            "84 is even\n",
            "85 is odd\n",
            "86 is even\n",
            "87 is odd\n",
            "88 is even\n",
            "89 is odd\n",
            "90 is even\n",
            "91 is odd\n",
            "92 is even\n",
            "93 is odd\n",
            "94 is even\n",
            "95 is odd\n",
            "96 is even\n",
            "97 is odd\n",
            "98 is even\n",
            "99 is odd\n",
            "100 is even\n",
            "TOTAL odd: 2500\n"
          ]
        }
      ],
      "source": [
        "numTOTALEVEN=0\n",
        "numTOTALodd=0\n",
        "for number in range(0,101):\n",
        "  if number%2==0:\n",
        "    numTOTALEVEN=number+numTOTALEVEN\n",
        "    print (number,\"is even\")\n",
        "  elif number%2!=0:\n",
        "    numTOTALodd=number+numTOTALodd\n",
        "    print (number,\"is odd\")\n",
        "print(\"TOTAL odd:\",numTOTALodd)\n"
      ]
    },
    {
      "cell_type": "code",
      "source": [
        "for number in range(4,-1,-1): \n",
        "    print(\"hello\",(number+1),(number+1)*\"*\")"
      ],
      "metadata": {
        "colab": {
          "base_uri": "https://localhost:8080/"
        },
        "id": "VucBlYd14YFL",
        "outputId": "a0dcd810-cac8-4a61-a691-1d468a3a1519"
      },
      "execution_count": null,
      "outputs": [
        {
          "output_type": "stream",
          "name": "stdout",
          "text": [
            "hello 5 *****\n",
            "hello 4 ****\n",
            "hello 3 ***\n",
            "hello 2 **\n",
            "hello 1 *\n"
          ]
        }
      ]
    },
    {
      "cell_type": "code",
      "source": [
        "for number in reversed(range(5)): \n",
        "    print(\"hello\",(number+1),(number+1)*\"*\")\n",
        "    \n"
      ],
      "metadata": {
        "colab": {
          "base_uri": "https://localhost:8080/"
        },
        "id": "POO4K1Ji4YBm",
        "outputId": "1d51fd48-0dbf-49fb-b8e0-a4c6f5964692"
      },
      "execution_count": null,
      "outputs": [
        {
          "output_type": "stream",
          "name": "stdout",
          "text": [
            "hello 5 *****\n",
            "hello 4 ****\n",
            "hello 3 ***\n",
            "hello 2 **\n",
            "hello 1 *\n"
          ]
        }
      ]
    },
    {
      "cell_type": "code",
      "source": [
        "name1=input(\"enter name:\")\n",
        "for num in name1:\n",
        "  print(num)"
      ],
      "metadata": {
        "colab": {
          "base_uri": "https://localhost:8080/"
        },
        "id": "vwFt97IQTe7X",
        "outputId": "04ef87f6-b42f-49ff-f3d3-62e9a9815f45"
      },
      "execution_count": null,
      "outputs": [
        {
          "output_type": "stream",
          "name": "stdout",
          "text": [
            "enter name:najlaa\n",
            "n\n",
            "a\n",
            "j\n",
            "l\n",
            "a\n",
            "a\n"
          ]
        }
      ]
    },
    {
      "cell_type": "code",
      "source": [
        "Num = int(input(\"Enter number if prime or not: \")) \n",
        "count = 0 \n",
        "for i in range(1,(Num+1)): \n",
        "   if Num % i == 1: \n",
        "      count += 1 \n",
        "   if count == 2: \n",
        "      \n",
        "          print(i,\"The Number is Prime\" ) \n",
        "          print(Num % i)\n",
        "          print(count)\n",
        "   else: \n",
        "       \n",
        "          print(i,\"The Number is not Prime\")\n",
        "          print(Num % i)\n",
        "          print(count)\n",
        "\n",
        "\n"
      ],
      "metadata": {
        "colab": {
          "base_uri": "https://localhost:8080/"
        },
        "id": "i7oUNSn_89u2",
        "outputId": "bbe92d84-6900-49d4-ff89-2c84365adef0"
      },
      "execution_count": null,
      "outputs": [
        {
          "output_type": "stream",
          "name": "stdout",
          "text": [
            "Enter number if prime or not: 10\n",
            "1 The Number is not Prime\n",
            "0\n",
            "0\n",
            "2 The Number is not Prime\n",
            "0\n",
            "0\n",
            "3 The Number is not Prime\n",
            "1\n",
            "1\n",
            "4 The Number is not Prime\n",
            "2\n",
            "1\n",
            "5 The Number is not Prime\n",
            "0\n",
            "1\n",
            "6 The Number is not Prime\n",
            "4\n",
            "1\n",
            "7 The Number is not Prime\n",
            "3\n",
            "1\n",
            "8 The Number is not Prime\n",
            "2\n",
            "1\n",
            "9 The Number is Prime\n",
            "1\n",
            "2\n",
            "10 The Number is Prime\n",
            "0\n",
            "2\n"
          ]
        }
      ]
    },
    {
      "cell_type": "code",
      "source": [
        "i=1\n",
        "while i<6:\n",
        " print(i)\n",
        " i=i+1\n"
      ],
      "metadata": {
        "colab": {
          "base_uri": "https://localhost:8080/"
        },
        "id": "f_bqVHVK7D2X",
        "outputId": "0ba388d1-a167-409a-e933-917c64885a10"
      },
      "execution_count": null,
      "outputs": [
        {
          "output_type": "stream",
          "name": "stdout",
          "text": [
            "1\n",
            "2\n",
            "3\n",
            "4\n",
            "5\n"
          ]
        }
      ]
    },
    {
      "cell_type": "code",
      "source": [
        "for num in range(1,10):\n",
        "  print(num)\n",
        "  if(num==6):\n",
        "    break\n",
        "\n"
      ],
      "metadata": {
        "colab": {
          "base_uri": "https://localhost:8080/"
        },
        "id": "8g0sHkYf7SSL",
        "outputId": "e2a234cd-fab7-4db6-c3ac-bb1a7ba0c54c"
      },
      "execution_count": null,
      "outputs": [
        {
          "output_type": "stream",
          "name": "stdout",
          "text": [
            "1\n",
            "2\n",
            "3\n",
            "4\n",
            "5\n",
            "6\n"
          ]
        }
      ]
    },
    {
      "cell_type": "code",
      "source": [
        "colors=[\"red\",\"blue\",\"white\",\"black\"]\n",
        "print(colors[0],colors[2])\n",
        "print(colors[0][2])\n",
        "colors[0]=colors[1]\n",
        "print(colors[0])\n",
        "print(colors[-1])\n",
        "print(colors[-4])"
      ],
      "metadata": {
        "colab": {
          "base_uri": "https://localhost:8080/"
        },
        "id": "_mPb9i2J9iLb",
        "outputId": "c0a68174-fe77-4281-d64a-b2ce485e155a"
      },
      "execution_count": null,
      "outputs": [
        {
          "output_type": "stream",
          "name": "stdout",
          "text": [
            "red white\n",
            "d\n",
            "blue\n",
            "black\n",
            "blue\n"
          ]
        }
      ]
    },
    {
      "cell_type": "code",
      "source": [
        "colors=[\"red\",\"blue\",\"white\",\"black\"]\n",
        "for num in range(0,4):\n",
        "  print(colors[num])"
      ],
      "metadata": {
        "colab": {
          "base_uri": "https://localhost:8080/"
        },
        "id": "rokMudluenqg",
        "outputId": "ad33c0ee-4bff-424e-f83d-567c6c23ba1e"
      },
      "execution_count": null,
      "outputs": [
        {
          "output_type": "stream",
          "name": "stdout",
          "text": [
            "red\n",
            "blue\n",
            "white\n",
            "black\n"
          ]
        }
      ]
    },
    {
      "cell_type": "code",
      "source": [
        "colors.sort()\n",
        "print(colors)"
      ],
      "metadata": {
        "colab": {
          "base_uri": "https://localhost:8080/"
        },
        "id": "uFXkzYTKsb0i",
        "outputId": "f43d745e-c4e6-4593-e32c-2eb4b7893550"
      },
      "execution_count": null,
      "outputs": [
        {
          "output_type": "stream",
          "name": "stdout",
          "text": [
            "['black', 'blue', 'red', 'white']\n"
          ]
        }
      ]
    },
    {
      "cell_type": "code",
      "source": [
        "names=[\"mohamad\",\"ahmad\",\"lames\"]\n",
        "names.sort()\n",
        "print(names)"
      ],
      "metadata": {
        "colab": {
          "base_uri": "https://localhost:8080/"
        },
        "id": "cudfvYoEspP9",
        "outputId": "4e42dd62-f5ea-44f7-cd04-5efedcac716b"
      },
      "execution_count": null,
      "outputs": [
        {
          "output_type": "stream",
          "name": "stdout",
          "text": [
            "['ahmad', 'lames', 'mohamad']\n"
          ]
        }
      ]
    },
    {
      "cell_type": "code",
      "source": [
        "cars=[\"Corona\",\"Ford\"]\n",
        "cars.sort()\n",
        "print(cars)"
      ],
      "metadata": {
        "colab": {
          "base_uri": "https://localhost:8080/"
        },
        "id": "n_IpAByWso8z",
        "outputId": "80bfa479-4776-4162-8c1f-1e82638a3bdd"
      },
      "execution_count": null,
      "outputs": [
        {
          "output_type": "stream",
          "name": "stdout",
          "text": [
            "['Corona', 'Ford']\n"
          ]
        }
      ]
    },
    {
      "cell_type": "code",
      "source": [
        "cars.insert(0,\"Volvo\")\n",
        "print(cars)"
      ],
      "metadata": {
        "colab": {
          "base_uri": "https://localhost:8080/"
        },
        "id": "OOjx4mTnw4v1",
        "outputId": "af2b4eb6-39c8-41dd-83a3-892612363356"
      },
      "execution_count": null,
      "outputs": [
        {
          "output_type": "stream",
          "name": "stdout",
          "text": [
            "['Volvo', 'Corona', 'Ford']\n"
          ]
        }
      ]
    },
    {
      "cell_type": "code",
      "source": [
        "number1=int(input(\"enter number1=\"))\n",
        "number2=int(input(\"enter number2=\"))\n",
        "\n",
        "def sum():\n",
        " print(number1+number2)\n",
        "\n",
        "def Subtract():\n",
        " print(number1-number2)\n",
        "\n",
        "def Multiplication():\n",
        "   print(number1*number2)\n",
        "\n",
        "\n",
        "sum()\n",
        "Subtract()\n",
        "Multiplication()\n"
      ],
      "metadata": {
        "colab": {
          "base_uri": "https://localhost:8080/"
        },
        "id": "6qsMvl_850G3",
        "outputId": "09dca939-357d-4f10-9b27-a8b0b2dd1dc2"
      },
      "execution_count": null,
      "outputs": [
        {
          "output_type": "stream",
          "name": "stdout",
          "text": [
            "enter number1=5\n",
            "enter number2=6\n",
            "11\n",
            "-1\n",
            "30\n"
          ]
        }
      ]
    },
    {
      "cell_type": "code",
      "source": [
        "number1=int(input(\"enter number1=\"))\n",
        "number2=int(input(\"enter number2=\"))\n",
        "number3=int(input(\"enter number3=\"))\n",
        "def The_biggest_value():\n",
        "  if(number1>number2>number3):\n",
        "    print(number1)\n",
        "  elif(number2>number1>number3):\n",
        "    print(number2)\n",
        "  elif(number3>number1>number2):\n",
        "     print(number3)\n",
        "The_biggest_value() "
      ],
      "metadata": {
        "colab": {
          "base_uri": "https://localhost:8080/"
        },
        "id": "Kvzyk25792gM",
        "outputId": "b245be79-a51f-42da-e5a7-0fba1e7e7cd8"
      },
      "execution_count": null,
      "outputs": [
        {
          "output_type": "stream",
          "name": "stdout",
          "text": [
            "enter number1=55\n",
            "enter number2=88\n",
            "enter number3=10\n",
            "88\n"
          ]
        }
      ]
    },
    {
      "cell_type": "code",
      "source": [
        "def sum():\n",
        " print(number1+number2)\n",
        "\n",
        "def Subtract():\n",
        " print(number1-number2)\n",
        "\n",
        "def Multiplication():\n",
        "   print(number1*number2)\n",
        "\n",
        "def Division():\n",
        "   print(number1/number2)\n",
        "\n",
        "sum()\n",
        "Subtract()\n",
        "Multiplication()\n",
        "Division()"
      ],
      "metadata": {
        "id": "l5oUu3ET9Mpd"
      },
      "execution_count": null,
      "outputs": []
    },
    {
      "cell_type": "code",
      "source": [
        "number12=int(input(\"enter number1=\"))\n",
        "number22=int(input(\"enter number2=\"))\n",
        "print(\"enter number operater 1 for + 2 for - 3 for * 4 for /\")\n",
        "calculations=int(input(\"enter number operater=\"))\n",
        "\n",
        "\n",
        "\n",
        "def collecting(number12,number22):\n",
        " print(number12+number22)\n",
        "\n",
        "\n",
        "def subtract1(number12,number22):\n",
        " print(number12-number22)\n",
        "\n",
        "\n",
        "def Multiplication(number12,number22):\n",
        "   print(number12*number22)\n",
        "\n",
        "def Division(number12,number22):\n",
        "   print(number12/number22)\n",
        "\n",
        "if calculations==1:\n",
        "  collecting(number12,number22)\n",
        "elif calculations==2:\n",
        "  subtract1(number12,number22)\n",
        "elif calculations==3:\n",
        "  Multiplication(number12,number22)\n",
        "elif calculations==4:\n",
        "  Division(number12,number22)\n",
        "\n",
        "\n",
        "\n",
        "\n",
        "\n"
      ],
      "metadata": {
        "colab": {
          "base_uri": "https://localhost:8080/"
        },
        "id": "Uwnb2tzyFmTP",
        "outputId": "8396b76a-fbff-47ea-fffd-942bd3094928"
      },
      "execution_count": null,
      "outputs": [
        {
          "output_type": "stream",
          "name": "stdout",
          "text": [
            "enter number1=8\n",
            "enter number2=5\n",
            "enter number operater 1 for + 2 for - 3 for * 4 for /\n",
            "enter number operater=2\n",
            "3\n"
          ]
        }
      ]
    },
    {
      "cell_type": "code",
      "source": [
        "number123=int(input(\"enter number1=\"))\n",
        "number222=int(input(\"enter number2=\"))\n",
        "print(\"enter number operater 1 for + 2 for - 3 for * 4 for /\")\n",
        "calculations1=int(input(\"enter number operater=\"))\n",
        "\n",
        "\n",
        "def collecting():\n",
        " print(number123+number222)\n",
        "\n",
        "\n",
        "def subtract1():\n",
        " print(number123-number222)\n",
        "\n",
        "\n",
        "def Multiplication():\n",
        "   print(number123*number222)\n",
        "\n",
        "def Division():\n",
        "   print(number12/number22)\n",
        "\n",
        "if calculations1==1:\n",
        "  collecting()\n",
        "elif calculations1==2:\n",
        "  subtract1()\n",
        "elif calculations1==3:\n",
        "  Multiplication()\n",
        "elif calculations1==4:\n",
        "  Division()"
      ],
      "metadata": {
        "colab": {
          "base_uri": "https://localhost:8080/"
        },
        "id": "6D0rhZb_KjXz",
        "outputId": "199b98bc-9fbb-4aca-b114-69a37c75defa"
      },
      "execution_count": null,
      "outputs": [
        {
          "output_type": "stream",
          "name": "stdout",
          "text": [
            "enter number1=8\n",
            "enter number2=2\n",
            "enter number operater 1 for + 2 for - 3 for * 4 for /\n",
            "enter number operater=2\n",
            "6\n"
          ]
        }
      ]
    }
  ]
}