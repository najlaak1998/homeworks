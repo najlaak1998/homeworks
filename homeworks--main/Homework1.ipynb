{
  "nbformat": 4,
  "nbformat_minor": 0,
  "metadata": {
    "colab": {
      "provenance": [],
      "include_colab_link": true
    },
    "kernelspec": {
      "name": "python3",
      "display_name": "Python 3"
    },
    "language_info": {
      "name": "python"
    }
  },
  "cells": [
    {
      "cell_type": "markdown",
      "metadata": {
        "id": "view-in-github",
        "colab_type": "text"
      },
      "source": [
        "<a href=\"https://colab.research.google.com/github/najlaak1998/homeworks/blob/main/homeworks--main/Homework1.ipynb\" target=\"_parent\"><img src=\"https://colab.research.google.com/assets/colab-badge.svg\" alt=\"Open In Colab\"/></a>"
      ]
    },
    {
      "cell_type": "code",
      "source": [
        "A=10\n",
        "B=6\n",
        "sum1=A+B\n",
        "avg1=sum1/2\n",
        "print(\"The SUM is\",sum1,\"And AVG is\",avg1)"
      ],
      "metadata": {
        "id": "NnqZ426571ms",
        "outputId": "84e0cd53-5ff9-4089-b460-df78a3051cb6",
        "colab": {
          "base_uri": "https://localhost:8080/"
        }
      },
      "execution_count": null,
      "outputs": [
        {
          "output_type": "stream",
          "name": "stdout",
          "text": [
            "The SUM is 16 And AVG is 8.0\n"
          ]
        }
      ]
    },
    {
      "cell_type": "code",
      "execution_count": null,
      "metadata": {
        "colab": {
          "base_uri": "https://localhost:8080/"
        },
        "id": "oEpGPGJC06Mt",
        "outputId": "ffa5ae92-785a-4cb0-abf2-5083815c296f"
      },
      "outputs": [
        {
          "output_type": "stream",
          "name": "stdout",
          "text": [
            "Enter physics:88\n",
            "physics is:  88.0\n",
            "Enter chemistry:77\n",
            "chemistry is:  77.0\n",
            "Enter Biology:99\n",
            "Biology is:  99.0\n",
            "The SUM is 264.0 And AVG is 88.0\n"
          ]
        }
      ],
      "source": [
        "physics = float(input(\"Enter physics:\"))\n",
        "print(\"physics is: \",physics)\n",
        "chemistry=float(input(\"Enter chemistry:\"))\n",
        "print(\"chemistry is: \",chemistry)\n",
        "Biology=float(input(\"Enter Biology:\"))\n",
        "print(\"Biology is: \",Biology)\n",
        "sum=physics+chemistry+Biology\n",
        "avg=sum/3\n",
        "print(\"The SUM is\",sum,\"And AVG is\",avg)\n",
        "\n"
      ]
    },
    {
      "cell_type": "code",
      "source": [
        "physics = int(input(\"Enter physics:\"))\n",
        "print(\"physics is: \",physics)\n",
        "chemistry=int(input(\"Enter chemistry:\"))\n",
        "print(\"chemistry is: \",chemistry)\n",
        "Biology=int(input(\"Enter Biology:\"))\n",
        "print(\"Biology is: \",Biology)\n",
        "sum=physics+chemistry+Biology\n",
        "avg=sum/3\n",
        "print(\"The SUM is\",sum,\"And AVG is\",avg)\n"
      ],
      "metadata": {
        "colab": {
          "base_uri": "https://localhost:8080/"
        },
        "id": "iNEVQcwf6j40",
        "outputId": "97fffd0b-efb5-488a-8c7d-752eba6efb5a"
      },
      "execution_count": null,
      "outputs": [
        {
          "output_type": "stream",
          "name": "stdout",
          "text": [
            "Enter physics:77\n",
            "physics is:  77\n",
            "Enter chemistry:88\n",
            "chemistry is:  88\n",
            "Enter Biology:99\n",
            "Biology is:  99\n",
            "The SUM is 264 And AVG is 88.0\n"
          ]
        }
      ]
    }
  ]
}