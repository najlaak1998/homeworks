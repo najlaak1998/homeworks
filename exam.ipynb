{
  "nbformat": 4,
  "nbformat_minor": 0,
  "metadata": {
    "colab": {
      "provenance": [],
      "authorship_tag": "ABX9TyPsiWYSDm8eft1npUwF3y1k",
      "include_colab_link": true
    },
    "kernelspec": {
      "name": "python3",
      "display_name": "Python 3"
    },
    "language_info": {
      "name": "python"
    }
  },
  "cells": [
    {
      "cell_type": "markdown",
      "metadata": {
        "id": "view-in-github",
        "colab_type": "text"
      },
      "source": [
        "<a href=\"https://colab.research.google.com/github/najlaak1998/homeworks/blob/main/exam.ipynb\" target=\"_parent\"><img src=\"https://colab.research.google.com/assets/colab-badge.svg\" alt=\"Open In Colab\"/></a>"
      ]
    },
    {
      "cell_type": "code",
      "execution_count": 13,
      "metadata": {
        "colab": {
          "base_uri": "https://localhost:8080/"
        },
        "id": "uhSeLcoH2n9E",
        "outputId": "82cb8ef7-5fff-4b37-d27c-868e366f1e89"
      },
      "outputs": [
        {
          "output_type": "stream",
          "name": "stdout",
          "text": [
            "Please enter your name=najll\n",
            "Please enter your Salary=1000\n",
            "before the salary increase= 1000.0\n",
            "after the salary increase= 1020.0\n",
            "The rate of increase in salary= 20.0\n"
          ]
        }
      ],
      "source": [
        "Name=input(\"Please enter your name=\")\n",
        "Salary=float(input(\"Please enter your Salary=\"))\n",
        "bonus1=Salary*(10/100)\n",
        "bonus2=Salary*(5/100)\n",
        "bonus3=Salary*(2/100)\n",
        "print(\"before the salary increase=\",Salary)\n",
        "\n",
        "if Salary<500:\n",
        "    Salary=Salary+bonus1\n",
        "    print(\"after the salary increase=\",Salary)\n",
        "    print(\"The rate of increase in salary=\",bonus1)\n",
        "\n",
        "elif Salary>=500 and Salary<=700:\n",
        "    Salary=Salary+bonus2\n",
        "    print(\"after the salary increase=\",Salary)\n",
        "    print(\"The rate of increase in salary=\",bonus2)\n",
        "\n",
        "elif Salary>=700:\n",
        "      Salary=Salary+bonus3\n",
        "      print(\"after the salary increase=\",Salary)\n",
        "      print(\"The rate of increase in salary=\",bonus3)\n",
        "\n",
        " \n",
        "\n",
        "     \n"
      ]
    },
    {
      "cell_type": "code",
      "source": [
        "Letter=input(\"Please enter Letter=\")\n",
        "print(\"Letter:\",Letter)\n",
        "if Letter==\"A\" or Letter==\"E\" or Letter==\"I\" or Letter==\"O\" or Letter==\"U\" or Letter==\"Y\" or Letter==\"W\":\n",
        "   print(\"Vowel Letter\")\n",
        "else:\n",
        "   print(\"not Vowel Letter\")\n"
      ],
      "metadata": {
        "colab": {
          "base_uri": "https://localhost:8080/"
        },
        "id": "9Axg7ma28on2",
        "outputId": "7fc5345b-3fbb-45f9-806d-891e053f36dd"
      },
      "execution_count": 17,
      "outputs": [
        {
          "output_type": "stream",
          "name": "stdout",
          "text": [
            "Please enter Letter=E\n",
            "Letter: E\n",
            "Vowel Letter\n"
          ]
        }
      ]
    }
  ]
}